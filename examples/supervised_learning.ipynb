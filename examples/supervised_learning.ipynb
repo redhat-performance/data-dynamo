# Example to predict presence of performance issues within requests using Supervised Machine Learning
import numpy as np
from glob import glob
import pandas as pd
from sklearn.linear_model import LogisticRegression
from sklearn.tree import DecisionTreeClassifier
from sklearn.metrics import f1_score
from itertools import cycle

def convert_labels(labels):
    return [1 if label in [1, 2] else 0 for label in labels]

def read_data(file_path):
    df = pd.read_csv(file_path)
    X = df.iloc[:, :-1]
    y = convert_labels(df.iloc[:, -1])
    return X, y

def train_and_evaluate(train_path, test_path):
    train_set = train_path.split('/')[-1].split('.')[0]
    test_set = test_path.split('/')[-1].split('.')[0]

    X_train, y_train = read_data(train_path)
    X_test, y_test = read_data(test_path)

    # Train a Decision Tree classifier
    clf = DecisionTreeClassifier(random_state=42)
    clf.fit(X_train, y_train)

    # Make predictions
    y_pred = clf.predict(X_test)

    # Calculate F1 score (average='weighted' to deal with class imbalance)
    f1 = f1_score(y_test, y_pred)

    return train_set, test_set, f1

# Get trainticket paths
paths = glob('data/trainticket/*.csv')

# Shuffle the paths
np.random.seed(42)
np.random.shuffle(paths)

# Create a cycle iterator
iterator = cycle(paths)

# Initialize the result dictionary
results = {'train_set': [], 'test_set': [], 'f1': []}

for _ in range(len(paths)):
    train_path = next(iterator)
    test_path = next(iterator)

    train_set, test_set, f1 = train_and_evaluate(train_path, test_path)

    # Append the result to the dictionary
    results['train_set'].append(train_set)
    results['test_set'].append(test_set)
    results['f1'].append(f1)

# Create a dataframe from the results
df_results = pd.DataFrame(results)
